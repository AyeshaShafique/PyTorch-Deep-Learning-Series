{
 "cells": [
  {
   "cell_type": "markdown",
   "metadata": {},
   "source": [
    "# Tensor Basics"
   ]
  },
  {
   "cell_type": "code",
   "execution_count": 35,
   "metadata": {},
   "outputs": [
    {
     "name": "stdout",
     "output_type": "stream",
     "text": [
      "tensor([[0.4962, 0.3283, 0.2880],\n",
      "        [0.9919, 0.0760, 0.4430],\n",
      "        [0.8144, 0.2757, 0.0582],\n",
      "        [0.0638, 0.8576, 0.2968]])\n"
     ]
    }
   ],
   "source": [
    "import torch\n",
    "\n",
    "\n",
    "#make a random tensor of size (4,3)\n",
    "x = torch.rand(4, 3)\n",
    "print(x)"
   ]
  },
  {
   "cell_type": "code",
   "execution_count": 36,
   "metadata": {},
   "outputs": [
    {
     "name": "stdout",
     "output_type": "stream",
     "text": [
      "tensor([[0, 0, 0],\n",
      "        [0, 0, 0]], dtype=torch.int32)\n"
     ]
    }
   ],
   "source": [
    "#intialize a tensor of size (2,3) with zeros\n",
    "x = torch.zeros(2, 3, dtype=torch.int)\n",
    "print(x)"
   ]
  },
  {
   "cell_type": "code",
   "execution_count": 38,
   "metadata": {},
   "outputs": [
    {
     "name": "stdout",
     "output_type": "stream",
     "text": [
      "tensor([4, 3])\n"
     ]
    }
   ],
   "source": [
    "#You can even make a tensor from your given list of numbers\n",
    "x = torch.tensor([4, 3])\n",
    "print(x)"
   ]
  },
  {
   "cell_type": "code",
   "execution_count": 39,
   "metadata": {},
   "outputs": [
    {
     "name": "stdout",
     "output_type": "stream",
     "text": [
      "tensor([[0.5913, 0.9356, 0.1400],\n",
      "        [0.2191, 0.8193, 0.4834]])\n",
      "tensor([[-0.3078, -0.1623, -0.4389],\n",
      "        [ 0.3400, -0.1067, -0.4914]])\n"
     ]
    }
   ],
   "source": [
    "#You can transfer the property of one tensor x to the another new tensor y.\n",
    "\n",
    "x = torch.rand(2, 3)\n",
    "print(x)\n",
    "\n",
    "y = torch.randn_like(x, dtype=torch.float)    \n",
    "print(y)"
   ]
  },
  {
   "cell_type": "code",
   "execution_count": 40,
   "metadata": {},
   "outputs": [
    {
     "name": "stdout",
     "output_type": "stream",
     "text": [
      "torch.Size([2, 3])\n",
      "torch.Size([2, 3])\n"
     ]
    }
   ],
   "source": [
    "#to check the size of tensor\n",
    "\n",
    "print(x.size())\n",
    "print(y.size())"
   ]
  },
  {
   "cell_type": "markdown",
   "metadata": {},
   "source": [
    "# Tensor Mathematical Operations"
   ]
  },
  {
   "cell_type": "markdown",
   "metadata": {},
   "source": [
    "1. Tensor Addition"
   ]
  },
  {
   "cell_type": "code",
   "execution_count": 43,
   "metadata": {},
   "outputs": [
    {
     "name": "stdout",
     "output_type": "stream",
     "text": [
      "tensor([[1.2799, 1.6521, 0.5554],\n",
      "        [1.7620, 1.5549, 0.8005],\n",
      "        [1.2057, 1.3362, 0.8216],\n",
      "        [1.5876, 1.8165, 1.1236]])\n"
     ]
    }
   ],
   "source": [
    "#Method 1:\n",
    "\n",
    "x = torch.rand(4, 3)\n",
    "y = torch.rand(4, 3)\n",
    "\n",
    "print(x + y)"
   ]
  },
  {
   "cell_type": "code",
   "execution_count": 44,
   "metadata": {},
   "outputs": [
    {
     "name": "stdout",
     "output_type": "stream",
     "text": [
      "tensor([[1.2799, 1.6521, 0.5554],\n",
      "        [1.7620, 1.5549, 0.8005],\n",
      "        [1.2057, 1.3362, 0.8216],\n",
      "        [1.5876, 1.8165, 1.1236]])\n"
     ]
    }
   ],
   "source": [
    "#Method 2:\n",
    "\n",
    "print(torch.add(x, y))"
   ]
  },
  {
   "cell_type": "markdown",
   "metadata": {},
   "source": [
    "2. Tensor Subtraction"
   ]
  },
  {
   "cell_type": "code",
   "execution_count": 45,
   "metadata": {},
   "outputs": [
    {
     "name": "stdout",
     "output_type": "stream",
     "text": [
      "tensor([[ 0.6589,  0.0509, -0.7930],\n",
      "        [-0.2612,  0.0733,  0.6093],\n",
      "        [-0.3240,  0.1778, -0.6672],\n",
      "        [-0.8397, -0.8389,  0.3115]])\n"
     ]
    }
   ],
   "source": [
    "#Method 1:\n",
    "\n",
    "x = torch.rand(4, 3)\n",
    "y = torch.rand(4, 3)\n",
    "\n",
    "print(x - y)"
   ]
  },
  {
   "cell_type": "code",
   "execution_count": 46,
   "metadata": {},
   "outputs": [
    {
     "name": "stdout",
     "output_type": "stream",
     "text": [
      "tensor([[ 0.6589,  0.0509, -0.7930],\n",
      "        [-0.2612,  0.0733,  0.6093],\n",
      "        [-0.3240,  0.1778, -0.6672],\n",
      "        [-0.8397, -0.8389,  0.3115]])\n"
     ]
    }
   ],
   "source": [
    "#Method 2:\n",
    "\n",
    "print(torch.sub(x, y))"
   ]
  },
  {
   "cell_type": "markdown",
   "metadata": {},
   "source": [
    "3. Tensor Product or Mutliplication"
   ]
  },
  {
   "cell_type": "code",
   "execution_count": 47,
   "metadata": {},
   "outputs": [
    {
     "name": "stdout",
     "output_type": "stream",
     "text": [
      "tensor([[-1.6092, -4.3108, -2.2888],\n",
      "        [-1.5063, -2.2422, -1.2025]])\n"
     ]
    }
   ],
   "source": [
    "# If m1 is a (n×m) tensor, m2 is a (m×p) tensor, output will be a (n×p) tensor\n",
    "\n",
    "m1 = torch.randn(2, 3)\n",
    "m2 = torch.randn(3, 3)\n",
    "\n",
    "print(torch.mm(m1, m2))"
   ]
  },
  {
   "cell_type": "markdown",
   "metadata": {},
   "source": [
    "# Tensor Indexing and Slicing"
   ]
  },
  {
   "cell_type": "markdown",
   "metadata": {},
   "source": [
    "1. Indexing"
   ]
  },
  {
   "cell_type": "code",
   "execution_count": 49,
   "metadata": {},
   "outputs": [
    {
     "name": "stdout",
     "output_type": "stream",
     "text": [
      "tensor(4)\n"
     ]
    }
   ],
   "source": [
    "#Accessing the tensor data\n",
    "\n",
    "x = torch.tensor([[1, 2, 3], [4, 5, 6]])\n",
    "print(x[1][0])"
   ]
  },
  {
   "cell_type": "markdown",
   "metadata": {},
   "source": [
    "2. Slicing"
   ]
  },
  {
   "cell_type": "code",
   "execution_count": 51,
   "metadata": {},
   "outputs": [
    {
     "name": "stdout",
     "output_type": "stream",
     "text": [
      "tensor([[1, 2, 7],\n",
      "        [4, 5, 6]])\n"
     ]
    }
   ],
   "source": [
    "x[0][2] = 7\n",
    "print(x)"
   ]
  },
  {
   "cell_type": "code",
   "execution_count": null,
   "metadata": {},
   "outputs": [],
   "source": []
  }
 ],
 "metadata": {
  "kernelspec": {
   "display_name": "Python 3",
   "language": "python",
   "name": "python3"
  },
  "language_info": {
   "codemirror_mode": {
    "name": "ipython",
    "version": 3
   },
   "file_extension": ".py",
   "mimetype": "text/x-python",
   "name": "python",
   "nbconvert_exporter": "python",
   "pygments_lexer": "ipython3",
   "version": "3.7.3"
  }
 },
 "nbformat": 4,
 "nbformat_minor": 2
}
